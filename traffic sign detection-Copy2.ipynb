{
 "cells": [
  {
   "cell_type": "code",
   "execution_count": 1,
   "id": "f83b12eb",
   "metadata": {},
   "outputs": [],
   "source": [
    "import numpy as np\n",
    "import pickle\n",
    "import cv2\n",
    "import keras\n",
    "import tensorflow\n",
    "from tensorflow.keras import models"
   ]
  },
  {
   "cell_type": "code",
   "execution_count": 2,
   "id": "8abe6bbe",
   "metadata": {},
   "outputs": [],
   "source": [
    "frameWidth= 640         # CAMERA RESOLUTION\n",
    "frameHeight=480\n",
    "brightness=180\n",
    "threshold=0.90          # PROBABLITY THRESHOLD\n",
    "font = cv2.FONT_HERSHEY_SIMPLEX"
   ]
  },
  {
   "cell_type": "code",
   "execution_count": 3,
   "id": "0d64e916",
   "metadata": {},
   "outputs": [
    {
     "data": {
      "text/plain": [
       "False"
      ]
     },
     "execution_count": 3,
     "metadata": {},
     "output_type": "execute_result"
    }
   ],
   "source": [
    "cap=cv2.VideoCapture(0)\n",
    "cap.set(3, frameWidth)\n",
    "cap.set(4, frameHeight)\n",
    "cap.set(10, brightness)"
   ]
  },
  {
   "cell_type": "code",
   "execution_count": 4,
   "id": "dc328ba1",
   "metadata": {},
   "outputs": [],
   "source": [
    "my_model=models.load_model(r\"C:\\Users\\MANISH\\Desktop\\mega project Daksh\\project 1\\my model\")\n",
    "my_model.load_weights(r\"C:\\Users\\MANISH\\Desktop\\mega project Daksh\\project 1\\weights.h5\")"
   ]
  },
  {
   "cell_type": "code",
   "execution_count": 5,
   "id": "4ea4f28b",
   "metadata": {},
   "outputs": [],
   "source": [
    "def grayscale(img):\n",
    "    img = cv2.cvtColor(img,cv2.COLOR_BGR2GRAY)\n",
    "    return img\n",
    "def equalize(img):\n",
    "    img =cv2.equalizeHist(img)\n",
    "    return img\n",
    "def preprocessing(img):\n",
    "    img = grayscale(img)\n",
    "    img = equalize(img)\n",
    "    img = img/255\n",
    "    return img"
   ]
  },
  {
   "cell_type": "code",
   "execution_count": 6,
   "id": "52b0bc0e",
   "metadata": {},
   "outputs": [],
   "source": [
    "import pyttsx3\n",
    "engine = pyttsx3.init()\n",
    "engine.setProperty('rate', 150)    \n",
    "engine.setProperty('volume', 0.5) \n",
    "engine.runAndWait()"
   ]
  },
  {
   "cell_type": "code",
   "execution_count": 7,
   "id": "dd38ebc7",
   "metadata": {},
   "outputs": [],
   "source": [
    "def getclassname(class_no_list):\n",
    "    if class_no_list==0:\n",
    "        return 'Speed Limit 20 km/h'\n",
    "    elif class_no_list==1:\n",
    "        return 'Speed Limit 30 km/h'\n",
    "    elif class_no_list==2:\n",
    "        return 'Speed Limit 50 km/h'\n",
    "    elif class_no_list==3:\n",
    "        return 'Speed Limit 60 km/h'\n",
    "    elif class_no_list==4:\n",
    "        return 'Speed Limit 70 km/h'\n",
    "    elif class_no_list==5:\n",
    "        return 'Speed Limit 80 km/h'\n",
    "    elif class_no_list==6:\n",
    "        return 'End of Speed Limit 80 km/h'\n",
    "    elif class_no_list==7:\n",
    "        return 'Speed Limit 100 km/h'\n",
    "    elif class_no_list==8:\n",
    "        return 'Speed Limit 120 km/h'\n",
    "    elif class_no_list==9:\n",
    "        return 'No passing'\n",
    "    elif class_no_list==10:\n",
    "        return 'No passing for vechiles over 3.5 metric tons'\n",
    "    elif class_no_list==11:\n",
    "        return 'Right-of-way at the next intersection'\n",
    "    elif class_no_list==12: \n",
    "        return 'Priority road'\n",
    "    elif class_no_list==13:\n",
    "        return 'Yield'\n",
    "    elif class_no_list==14: \n",
    "        return 'Stop'\n",
    "    elif class_no_list==15:\n",
    "        return 'No vechiles'\n",
    "    elif class_no_list==16:\n",
    "        return 'Vechiles over 3.5 metric tons prohibited'\n",
    "    elif class_no_list==17: \n",
    "        return 'No entry'\n",
    "    elif class_no_list==18:\n",
    "        return 'General caution'\n",
    "    elif class_no_list==19: \n",
    "        return 'Dangerous curve to the left'\n",
    "    elif class_no_list==20: \n",
    "        return 'Dangerous curve to the right'\n",
    "    elif class_no_list==21: \n",
    "        return 'Double curve'\n",
    "    elif class_no_list==22:\n",
    "        return 'Bumpy road'\n",
    "    elif class_no_list==23: \n",
    "        return 'Slippery road'\n",
    "    elif class_no_list==24:\n",
    "        return 'Road narrows on the right'\n",
    "    elif class_no_list==25:\n",
    "        return 'Road work'\n",
    "    elif class_no_list==26:\n",
    "        return 'Traffic signals'\n",
    "    elif class_no_list==27:\n",
    "        return 'Pedestrians'\n",
    "    elif class_no_list==28: \n",
    "        return 'Children crossing'\n",
    "    elif class_no_list==29: \n",
    "        return 'Bicycles crossing'\n",
    "    elif class_no_list==30:\n",
    "        return 'Beware of ice/snow'\n",
    "    elif class_no_list==31:\n",
    "        return 'Wild animals crossing'\n",
    "    elif class_no_list==32:\n",
    "        return 'End of all speed and passing limits'\n",
    "    elif class_no_list==33: \n",
    "        return 'Turn right ahead'\n",
    "    elif class_no_list==34: \n",
    "        return 'Turn left ahead'\n",
    "    elif class_no_list==35:\n",
    "        return 'Ahead only'\n",
    "    elif class_no_list==36:\n",
    "        return 'Go straight or right'\n",
    "    elif class_no_list==37:\n",
    "        return 'Go straight or left'\n",
    "    elif class_no_list==38:\n",
    "        return 'Keep right'\n",
    "    elif class_no_list==39: \n",
    "        return 'Keep left'\n",
    "    elif class_no_list==40:\n",
    "        return 'Roundabout mandatory'\n",
    "    elif class_no_list==41:\n",
    "        return 'End of no passing'\n",
    "    elif class_no_list==42:\n",
    "        return 'End of no passing by vechiles over 3.5 metric tons'\n",
    " "
   ]
  },
  {
   "cell_type": "code",
   "execution_count": null,
   "id": "9a0dc093",
   "metadata": {},
   "outputs": [],
   "source": [
    "cap=cv2.VideoCapture(0)\n",
    "cap.set(3, frameWidth)\n",
    "cap.set(4, frameHeight)\n",
    "cap.set(10, brightness)\n",
    "while True:\n",
    "    success,img_org = cap.read()\n",
    "    img=np.asarray(img_org)\n",
    "    img=cv2.resize(img,(32,32))\n",
    "    img=preprocessing(img)\n",
    "    cv2.imshow(\"Processed Image\",img)\n",
    "    img=img.reshape(1,32,32,1)\n",
    "    cv2.putText(img_org,\"TRAFFIC SIGN: \" ,(20,35),font,0.75,(0, 0, 255),2,cv2.LINE_AA)\n",
    "    cv2.putText(img_org,\"PROBABILITY: \",(20,75),font,0.75,(0, 0, 255),2,cv2.LINE_AA)\n",
    "    predictions=my_model.predict(img)\n",
    "    class_ind=np.argmax(predictions,axis=-1)\n",
    "    probabilityValue=np.amax(predictions)\n",
    "    if (probabilityValue>threshold):\n",
    "        cv2.putText(img_org,str(class_ind)+\" \"+str(getclassname(class_ind)),(120,35),font,0.75,(0,255,0),2,cv2.LINE_AA)\n",
    "        cv2.putText(img_org,str(round(probabilityValue*100,2) )+\"%\",(180,75),font,0.75,(0,255,0),2,cv2.LINE_AA)\n",
    "        engine.say(str(getclassname(class_ind)))\n",
    "        engine.runAndWait()\n",
    "    cv2.imshow(\"Traffic_sign_detection\",img_org)\n",
    "   \n",
    "\n",
    "\n",
    "    if cv2.waitKey(1) and 0xFF==ord('q'):\n",
    "        break\n",
    "cap.release()\n",
    "cv2.destroyAllWindows()"
   ]
  },
  {
   "cell_type": "code",
   "execution_count": null,
   "id": "261d89e9",
   "metadata": {},
   "outputs": [],
   "source": []
  },
  {
   "cell_type": "code",
   "execution_count": null,
   "id": "ceff3f10",
   "metadata": {},
   "outputs": [],
   "source": []
  }
 ],
 "metadata": {
  "kernelspec": {
   "display_name": "Python 3",
   "language": "python",
   "name": "python3"
  },
  "language_info": {
   "codemirror_mode": {
    "name": "ipython",
    "version": 3
   },
   "file_extension": ".py",
   "mimetype": "text/x-python",
   "name": "python",
   "nbconvert_exporter": "python",
   "pygments_lexer": "ipython3",
   "version": "3.8.8"
  }
 },
 "nbformat": 4,
 "nbformat_minor": 5
}
